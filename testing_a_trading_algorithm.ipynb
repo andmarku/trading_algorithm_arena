{
 "cells": [
  {
   "source": [
    "Backlogg\n",
    "===\n",
    "\n",
    "- todo test format of date\n"
   ],
   "cell_type": "markdown",
   "metadata": {}
  },
  {
   "cell_type": "code",
   "execution_count": 1,
   "metadata": {},
   "outputs": [],
   "source": [
    "\n",
    "import pandas as pd\n"
   ]
  },
  {
   "cell_type": "code",
   "execution_count": 12,
   "metadata": {},
   "outputs": [
    {
     "output_type": "error",
     "ename": "SyntaxError",
     "evalue": "can't assign to literal (<ipython-input-12-0c3280a8041e>, line 6)",
     "traceback": [
      "\u001b[0;36m  File \u001b[0;32m\"<ipython-input-12-0c3280a8041e>\"\u001b[0;36m, line \u001b[0;32m6\u001b[0m\n\u001b[0;31m    size_of_subset = 100, small_window = 10, window = 500, date_str = '2018-01-17'\u001b[0m\n\u001b[0m                    ^\u001b[0m\n\u001b[0;31mSyntaxError\u001b[0m\u001b[0;31m:\u001b[0m can't assign to literal\n"
     ]
    }
   ],
   "source": [
    "import csv\n",
    "import glob\n",
    "import numpy as np\n",
    "import pandas as pd\n",
    "from pandas.tseries.offsets import BDay # BDay for business day\n",
    "\n",
    "def calculateDates(small_window, window, start_date):\n",
    "    # create a start date\n",
    "    start_date = pd.Timestamp(start_date)\n",
    "\n",
    "    # add end date\n",
    "    end_date = start_date + BDay(window)\n",
    "\n",
    "    # include a history window for first day\n",
    "    start_date = start_date - BDay(small_window)\n",
    "\n",
    "    return {'start_date':start_date,'end_date':end_date}\n",
    "\n",
    "# temporary definition of constants\n",
    "size_of_subset = 100, small_window = 10, window = 500, date_str = '2018-01-17'\n",
    "\n",
    "# pick out the desired start and end dates\n",
    "dates = calculateDates(small_window = small_window, window = window, start_date = date_str)\n",
    "\n",
    "# list the files to be read\n",
    "path = \"./data/full_history/*.csv\"\n",
    "all_files = np.array(glob.glob(path))\n",
    "\n",
    "# create an empty list to add each (relevant) stock's data frame\n",
    "li=[]\n",
    "\n",
    "# go through all the files in the folder\n",
    "for filename in all_files[:size_of_subset]:\n",
    "    # read in the file\n",
    "    df = pd.read_csv(filename, parse_dates=[0])\n",
    "    \n",
    "    # basic trimming: drop all extra columns,rename the stock value column after the stock\n",
    "    df = df.drop(labels=list(['volume','close','high','low','adjclose']), axis='columns') \n",
    "    stock_name = filename.split(sep='/')[3].split(sep='.')[0].lower()\n",
    "    df = df.rename(columns={'open': stock_name})\n",
    "    \n",
    "    # fit to time window: selct only rows with relevant dates and ignore stocks without relevant values\n",
    "    df = df.loc[(df['date'] > dates['start_date']) & (df['date'] < dates['end_date'])]\n",
    "    if df.empty:\n",
    "        continue\n",
    "    \n",
    "    # prepare for concatenation: prep to join on dates and add to list of dfs\n",
    "    df=df.set_index('date')\n",
    "    li.append(df)\n",
    "\n",
    "# combine into a single data frame\n",
    "df = pd.concat(li, join='outer', axis=1)\n",
    "\n",
    "# remove dates (anonymises the time window somewhat)\n",
    "df.reset_index(drop=True)\n",
    "\n",
    "df"
   ]
  },
  {
   "cell_type": "code",
   "execution_count": 8,
   "metadata": {
    "tags": []
   },
   "outputs": [
    {
     "output_type": "execute_result",
     "data": {
      "text/plain": "Index    1688\nisd      1688\nmen      1688\ndfnl     1688\nsrf      1688\n         ... \nmhn      1688\nwneb     1688\npkg      1688\neast     1688\narct     1688\nLength: 95, dtype: int64"
     },
     "metadata": {},
     "execution_count": 8
    }
   ],
   "source": [
    "df.memory_usage()\n",
    "\n",
    "\n"
   ]
  },
  {
   "cell_type": "code",
   "execution_count": null,
   "metadata": {
    "scrolled": true
   },
   "outputs": [],
   "source": []
  },
  {
   "cell_type": "code",
   "execution_count": null,
   "metadata": {},
   "outputs": [],
   "source": []
  }
 ],
 "metadata": {
  "kernelspec": {
   "display_name": "Python 3",
   "language": "python",
   "name": "python3"
  },
  "language_info": {
   "codemirror_mode": {
    "name": "ipython",
    "version": 3
   },
   "file_extension": ".py",
   "mimetype": "text/x-python",
   "name": "python",
   "nbconvert_exporter": "python",
   "pygments_lexer": "ipython3",
   "version": "3.6.9-final"
  }
 },
 "nbformat": 4,
 "nbformat_minor": 4
}