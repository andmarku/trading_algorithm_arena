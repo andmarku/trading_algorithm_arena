{
 "cells": [
  {
   "cell_type": "code",
   "execution_count": 15,
   "metadata": {},
   "outputs": [],
   "source": [
    "# BDay is business day, not birthday...\n",
    "from pandas.tseries.offsets import BDay\n",
    "\n",
    "def calculateDates(small_window, window, start_date):\n",
    "    # create a start date\n",
    "    start_date = pd.Timestamp(start_date)\n",
    "\n",
    "    # add end date\n",
    "    end_date = start_date + BDay(window)\n",
    "\n",
    "    # include a history window for first day\n",
    "    start_date = start_date - BDay(small_window)\n",
    "\n",
    "    return {'start_date':start_date,'end_date':end_date}"
   ]
  },
  {
   "source": [
    "- todo test format of date\n"
   ],
   "cell_type": "markdown",
   "metadata": {}
  },
  {
   "cell_type": "code",
   "execution_count": 16,
   "metadata": {},
   "outputs": [
    {
     "output_type": "execute_result",
     "data": {
      "text/plain": "              isd    men       dfnl    srf  cnacu        hud       intg  \\\ndate                                                                      \n2018-01-18  14.88  11.24  24.865000  10.00    NaN        NaN  24.150000   \n2018-01-19  14.79  11.27  24.860001   9.89    NaN        NaN  23.170000   \n2018-01-22  14.88  11.29  24.879999   9.94    NaN        NaN  23.520000   \n2018-01-23  14.86  11.26  25.240000  10.00    NaN        NaN  23.150000   \n2018-01-24  14.94  11.25  25.370001   9.79    NaN        NaN  23.049999   \n...           ...    ...        ...    ...    ...        ...        ...   \n2018-10-29  13.58   9.72  22.740000   8.10    NaN  21.110001  30.650000   \n2018-10-30  13.54   9.65  22.379999   7.91    NaN  20.309999  30.650000   \n2018-10-31  13.56   9.67  22.905001   8.03    NaN  21.110001  30.650000   \n2018-11-01  13.52   9.69  23.090000   8.13    NaN  21.160000  30.650000   \n2018-11-02  13.61   9.75  23.309999   8.15  12.99  21.170000  29.260000   \n\n                  fun       iusb   evf  ...       wynd       otex   eigr  \\\ndate                                    ...                                \n2018-01-18  64.959999  50.580002  6.49  ...  54.266365  33.680000   8.60   \n2018-01-19  65.309998  50.560001  6.44  ...  56.144470  33.750000   9.25   \n2018-01-22  65.930000  50.490002  6.50  ...  57.155758  33.580002   9.00   \n2018-01-23  66.239998  50.520000  6.51  ...  57.200901  33.810001   8.85   \n2018-01-24  67.250000  50.520000  6.58  ...  57.665913  34.209999   9.00   \n...               ...        ...   ...  ...        ...        ...    ...   \n2018-10-29  49.599998  48.740002  6.30  ...  34.950001  33.669998  11.47   \n2018-10-30  52.549999  48.669998  6.22  ...  34.139999  32.720001  11.36   \n2018-10-31  51.950001  48.599998  6.20  ...  35.299999  33.669998  11.93   \n2018-11-01  51.529999  48.459999  6.20  ...  36.580002  31.990000  12.00   \n2018-11-02  52.500000  48.450001  6.25  ...  43.340000  33.830002  12.24   \n\n                 ebtc   ent    mhn   wneb         pkg   east  arct  \ndate                                                                \n2018-01-18  35.410000  2.06  13.30  11.10  126.599998  4.050  9.55  \n2018-01-19  34.560001  2.05  13.30  10.90  126.690002  4.180  9.30  \n2018-01-22  34.090000  2.00  13.25  11.10  127.800003  4.170  9.36  \n2018-01-23  34.860001  2.11  13.28  11.00  126.809998  4.370  9.37  \n2018-01-24  35.500000  2.26  13.27  11.05  126.989998  4.122  9.42  \n...               ...   ...    ...    ...         ...    ...   ...  \n2018-10-29  31.910000  2.36  11.78  10.18   91.410004  7.620  4.85  \n2018-10-30  31.100000  2.34  11.74  10.16   89.570000  7.580  5.13  \n2018-10-31  31.990000  2.42  11.69  10.21   93.839996  7.577  5.25  \n2018-11-01  32.630001  2.62  11.68  10.43   92.820000  7.800  5.50  \n2018-11-02  32.419998  2.65  11.66   9.96   96.639999  8.100  6.15  \n\n[202 rows x 94 columns]",
      "text/html": "<div>\n<style scoped>\n    .dataframe tbody tr th:only-of-type {\n        vertical-align: middle;\n    }\n\n    .dataframe tbody tr th {\n        vertical-align: top;\n    }\n\n    .dataframe thead th {\n        text-align: right;\n    }\n</style>\n<table border=\"1\" class=\"dataframe\">\n  <thead>\n    <tr style=\"text-align: right;\">\n      <th></th>\n      <th>isd</th>\n      <th>men</th>\n      <th>dfnl</th>\n      <th>srf</th>\n      <th>cnacu</th>\n      <th>hud</th>\n      <th>intg</th>\n      <th>fun</th>\n      <th>iusb</th>\n      <th>evf</th>\n      <th>...</th>\n      <th>wynd</th>\n      <th>otex</th>\n      <th>eigr</th>\n      <th>ebtc</th>\n      <th>ent</th>\n      <th>mhn</th>\n      <th>wneb</th>\n      <th>pkg</th>\n      <th>east</th>\n      <th>arct</th>\n    </tr>\n    <tr>\n      <th>date</th>\n      <th></th>\n      <th></th>\n      <th></th>\n      <th></th>\n      <th></th>\n      <th></th>\n      <th></th>\n      <th></th>\n      <th></th>\n      <th></th>\n      <th></th>\n      <th></th>\n      <th></th>\n      <th></th>\n      <th></th>\n      <th></th>\n      <th></th>\n      <th></th>\n      <th></th>\n      <th></th>\n      <th></th>\n    </tr>\n  </thead>\n  <tbody>\n    <tr>\n      <th>2018-01-18</th>\n      <td>14.88</td>\n      <td>11.24</td>\n      <td>24.865000</td>\n      <td>10.00</td>\n      <td>NaN</td>\n      <td>NaN</td>\n      <td>24.150000</td>\n      <td>64.959999</td>\n      <td>50.580002</td>\n      <td>6.49</td>\n      <td>...</td>\n      <td>54.266365</td>\n      <td>33.680000</td>\n      <td>8.60</td>\n      <td>35.410000</td>\n      <td>2.06</td>\n      <td>13.30</td>\n      <td>11.10</td>\n      <td>126.599998</td>\n      <td>4.050</td>\n      <td>9.55</td>\n    </tr>\n    <tr>\n      <th>2018-01-19</th>\n      <td>14.79</td>\n      <td>11.27</td>\n      <td>24.860001</td>\n      <td>9.89</td>\n      <td>NaN</td>\n      <td>NaN</td>\n      <td>23.170000</td>\n      <td>65.309998</td>\n      <td>50.560001</td>\n      <td>6.44</td>\n      <td>...</td>\n      <td>56.144470</td>\n      <td>33.750000</td>\n      <td>9.25</td>\n      <td>34.560001</td>\n      <td>2.05</td>\n      <td>13.30</td>\n      <td>10.90</td>\n      <td>126.690002</td>\n      <td>4.180</td>\n      <td>9.30</td>\n    </tr>\n    <tr>\n      <th>2018-01-22</th>\n      <td>14.88</td>\n      <td>11.29</td>\n      <td>24.879999</td>\n      <td>9.94</td>\n      <td>NaN</td>\n      <td>NaN</td>\n      <td>23.520000</td>\n      <td>65.930000</td>\n      <td>50.490002</td>\n      <td>6.50</td>\n      <td>...</td>\n      <td>57.155758</td>\n      <td>33.580002</td>\n      <td>9.00</td>\n      <td>34.090000</td>\n      <td>2.00</td>\n      <td>13.25</td>\n      <td>11.10</td>\n      <td>127.800003</td>\n      <td>4.170</td>\n      <td>9.36</td>\n    </tr>\n    <tr>\n      <th>2018-01-23</th>\n      <td>14.86</td>\n      <td>11.26</td>\n      <td>25.240000</td>\n      <td>10.00</td>\n      <td>NaN</td>\n      <td>NaN</td>\n      <td>23.150000</td>\n      <td>66.239998</td>\n      <td>50.520000</td>\n      <td>6.51</td>\n      <td>...</td>\n      <td>57.200901</td>\n      <td>33.810001</td>\n      <td>8.85</td>\n      <td>34.860001</td>\n      <td>2.11</td>\n      <td>13.28</td>\n      <td>11.00</td>\n      <td>126.809998</td>\n      <td>4.370</td>\n      <td>9.37</td>\n    </tr>\n    <tr>\n      <th>2018-01-24</th>\n      <td>14.94</td>\n      <td>11.25</td>\n      <td>25.370001</td>\n      <td>9.79</td>\n      <td>NaN</td>\n      <td>NaN</td>\n      <td>23.049999</td>\n      <td>67.250000</td>\n      <td>50.520000</td>\n      <td>6.58</td>\n      <td>...</td>\n      <td>57.665913</td>\n      <td>34.209999</td>\n      <td>9.00</td>\n      <td>35.500000</td>\n      <td>2.26</td>\n      <td>13.27</td>\n      <td>11.05</td>\n      <td>126.989998</td>\n      <td>4.122</td>\n      <td>9.42</td>\n    </tr>\n    <tr>\n      <th>...</th>\n      <td>...</td>\n      <td>...</td>\n      <td>...</td>\n      <td>...</td>\n      <td>...</td>\n      <td>...</td>\n      <td>...</td>\n      <td>...</td>\n      <td>...</td>\n      <td>...</td>\n      <td>...</td>\n      <td>...</td>\n      <td>...</td>\n      <td>...</td>\n      <td>...</td>\n      <td>...</td>\n      <td>...</td>\n      <td>...</td>\n      <td>...</td>\n      <td>...</td>\n      <td>...</td>\n    </tr>\n    <tr>\n      <th>2018-10-29</th>\n      <td>13.58</td>\n      <td>9.72</td>\n      <td>22.740000</td>\n      <td>8.10</td>\n      <td>NaN</td>\n      <td>21.110001</td>\n      <td>30.650000</td>\n      <td>49.599998</td>\n      <td>48.740002</td>\n      <td>6.30</td>\n      <td>...</td>\n      <td>34.950001</td>\n      <td>33.669998</td>\n      <td>11.47</td>\n      <td>31.910000</td>\n      <td>2.36</td>\n      <td>11.78</td>\n      <td>10.18</td>\n      <td>91.410004</td>\n      <td>7.620</td>\n      <td>4.85</td>\n    </tr>\n    <tr>\n      <th>2018-10-30</th>\n      <td>13.54</td>\n      <td>9.65</td>\n      <td>22.379999</td>\n      <td>7.91</td>\n      <td>NaN</td>\n      <td>20.309999</td>\n      <td>30.650000</td>\n      <td>52.549999</td>\n      <td>48.669998</td>\n      <td>6.22</td>\n      <td>...</td>\n      <td>34.139999</td>\n      <td>32.720001</td>\n      <td>11.36</td>\n      <td>31.100000</td>\n      <td>2.34</td>\n      <td>11.74</td>\n      <td>10.16</td>\n      <td>89.570000</td>\n      <td>7.580</td>\n      <td>5.13</td>\n    </tr>\n    <tr>\n      <th>2018-10-31</th>\n      <td>13.56</td>\n      <td>9.67</td>\n      <td>22.905001</td>\n      <td>8.03</td>\n      <td>NaN</td>\n      <td>21.110001</td>\n      <td>30.650000</td>\n      <td>51.950001</td>\n      <td>48.599998</td>\n      <td>6.20</td>\n      <td>...</td>\n      <td>35.299999</td>\n      <td>33.669998</td>\n      <td>11.93</td>\n      <td>31.990000</td>\n      <td>2.42</td>\n      <td>11.69</td>\n      <td>10.21</td>\n      <td>93.839996</td>\n      <td>7.577</td>\n      <td>5.25</td>\n    </tr>\n    <tr>\n      <th>2018-11-01</th>\n      <td>13.52</td>\n      <td>9.69</td>\n      <td>23.090000</td>\n      <td>8.13</td>\n      <td>NaN</td>\n      <td>21.160000</td>\n      <td>30.650000</td>\n      <td>51.529999</td>\n      <td>48.459999</td>\n      <td>6.20</td>\n      <td>...</td>\n      <td>36.580002</td>\n      <td>31.990000</td>\n      <td>12.00</td>\n      <td>32.630001</td>\n      <td>2.62</td>\n      <td>11.68</td>\n      <td>10.43</td>\n      <td>92.820000</td>\n      <td>7.800</td>\n      <td>5.50</td>\n    </tr>\n    <tr>\n      <th>2018-11-02</th>\n      <td>13.61</td>\n      <td>9.75</td>\n      <td>23.309999</td>\n      <td>8.15</td>\n      <td>12.99</td>\n      <td>21.170000</td>\n      <td>29.260000</td>\n      <td>52.500000</td>\n      <td>48.450001</td>\n      <td>6.25</td>\n      <td>...</td>\n      <td>43.340000</td>\n      <td>33.830002</td>\n      <td>12.24</td>\n      <td>32.419998</td>\n      <td>2.65</td>\n      <td>11.66</td>\n      <td>9.96</td>\n      <td>96.639999</td>\n      <td>8.100</td>\n      <td>6.15</td>\n    </tr>\n  </tbody>\n</table>\n<p>202 rows × 94 columns</p>\n</div>"
     },
     "metadata": {},
     "execution_count": 16
    }
   ],
   "source": [
    "import csv\n",
    "import glob\n",
    "import numpy as np\n",
    "import pandas as pd\n",
    "\n",
    "dates = calculateDates(small_window = 10, window = 1000, start_date = '2018-01-17')\n",
    "\n",
    "# list the files to be read\n",
    "path = \"./data/full_history/*.csv\"\n",
    "all_files = np.array(glob.glob(path))\n",
    "\n",
    "# create an empty list to add each stocks data frame\n",
    "li=[]\n",
    "\n",
    "for filename in all_files[1:100]:\n",
    "    # read om the file\n",
    "    df = pd.read_csv(filename, parse_dates=[0])\n",
    "    \n",
    "    # drop all extra columns\n",
    "    df = df.drop(labels=list(['volume','close','high','low','adjclose']), axis='columns')\n",
    "    \n",
    "    # rename the stock value column after the stock\n",
    "    stock_name = filename.split(sep='/')[3].split(sep='.')[0].lower()\n",
    "    df = df.rename(columns={'open': stock_name})\n",
    "    \n",
    "    # select only relevant date\n",
    "    df = df.loc[df['date'] > start_date]    \n",
    "    \n",
    "    # if the stock has no data after the start date, do not add it\n",
    "    if df.empty:\n",
    "        continue\n",
    "        \n",
    "    df = df[:window]  \n",
    "    \n",
    "    # set index as date in order to join\n",
    "    df=df.set_index('date')\n",
    "    \n",
    "    # add to the list\n",
    "    li.append(df)\n",
    "\n",
    "# combine all the data frames into one large\n",
    "df = pd.concat(li, join='outer', axis=1)\n",
    "\n",
    "df"
   ]
  },
  {
   "cell_type": "code",
   "execution_count": 14,
   "metadata": {
    "tags": []
   },
   "outputs": [],
   "source": [
    "\n",
    "\n",
    "\n"
   ]
  },
  {
   "cell_type": "code",
   "execution_count": 59,
   "metadata": {
    "scrolled": true
   },
   "outputs": [
    {
     "data": {
      "text/plain": [
       "False"
      ]
     },
     "execution_count": 59,
     "metadata": {},
     "output_type": "execute_result"
    }
   ],
   "source": []
  },
  {
   "cell_type": "code",
   "execution_count": null,
   "metadata": {},
   "outputs": [],
   "source": []
  }
 ],
 "metadata": {
  "kernelspec": {
   "display_name": "Python 3",
   "language": "python",
   "name": "python3"
  },
  "language_info": {
   "codemirror_mode": {
    "name": "ipython",
    "version": 3
   },
   "file_extension": ".py",
   "mimetype": "text/x-python",
   "name": "python",
   "nbconvert_exporter": "python",
   "pygments_lexer": "ipython3",
   "version": "3.6.9-final"
  }
 },
 "nbformat": 4,
 "nbformat_minor": 4
}