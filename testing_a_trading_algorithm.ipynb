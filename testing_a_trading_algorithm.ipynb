{
 "cells": [
  {
   "cell_type": "code",
   "execution_count": null,
   "metadata": {},
   "outputs": [],
   "source": [
    "import csv\n",
    "import glob\n",
    "import numpy as np\n",
    "import pandas as pd\n",
    "\n",
    "# list the files to be read\n",
    "path = \"./data/full_history/*.csv\"\n",
    "all_files = np.array(glob.glob(path))\n",
    "\n",
    "# create an empty list to add each stocks data frame\n",
    "li = []\n",
    "for filename in all_files:\n",
    "    # read om the file\n",
    "    df_temp = pd.read_csv(filename, parse_dates=[0])\n",
    "    \n",
    "    # drop all extra columns\n",
    "    df_temp = df_temp.drop(labels=list(['volume','close','high','low','adjclose']), axis='columns')\n",
    "    \n",
    "    # rename the stock value column after the stock\n",
    "    stock_name = filename.split(sep='/')[3].split(sep='.')[0].lower()\n",
    "    df_temp = df_temp.rename(columns={'open': stock_name})\n",
    "    \n",
    "    # add to the list\n",
    "    li.append(df_temp)\n",
    "\n",
    "# combine all the data frames into one large\n",
    "df = pd.concat(li, axis=0, ignore_index=True)\n",
    "\n",
    "df"
   ]
  }
 ],
 "metadata": {
  "kernelspec": {
   "display_name": "Python 3",
   "language": "python",
   "name": "python3"
  },
  "language_info": {
   "codemirror_mode": {
    "name": "ipython",
    "version": 3
   },
   "file_extension": ".py",
   "mimetype": "text/x-python",
   "name": "python",
   "nbconvert_exporter": "python",
   "pygments_lexer": "ipython3",
   "version": "3.6.9"
  }
 },
 "nbformat": 4,
 "nbformat_minor": 4
}
