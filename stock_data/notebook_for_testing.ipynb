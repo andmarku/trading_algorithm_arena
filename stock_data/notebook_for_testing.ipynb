{
 "cells": [
  {
   "source": [
    "Backlogg\n",
    "===\n",
    "\n",
    "- todo test format of date\n"
   ],
   "cell_type": "markdown",
   "metadata": {}
  },
  {
   "cell_type": "code",
   "execution_count": 12,
   "metadata": {
    "tags": []
   },
   "outputs": [],
   "source": [
    "import csv\n",
    "import glob\n",
    "import numpy as np\n",
    "import pandas as pd\n",
    "from pandas.tseries.offsets import BDay # BDay for business day\n",
    "\n",
    "#todo temporary definition of constants\n",
    "def create_stock_df(nr_days_to_trade=100, start_date_str='2017-01-17', nr_days_of_history=10):\n",
    "    \"\"\"\n",
    "    Wrapper for importing the stock data\n",
    "    \"\"\"\n",
    "\n",
    "    return(import_stock_data(nr_days_of_history, nr_days_to_trade, start_date_str))\n",
    "\n",
    "\n",
    "def calculateDates(nr_days_of_history, nr_days_to_trade, start_date_str):\n",
    "    \"\"\"\n",
    "    Calculates correct start and end dates for the data frame.\n",
    "    - The start date is moved backward in order to include the history_window for the first day of trading.\n",
    "    \"\"\"\n",
    "\n",
    "    # create a start date\n",
    "    start_date = pd.Timestamp(start_date_str)\n",
    "\n",
    "    # add end date\n",
    "    end_date = start_date + BDay(nr_days_to_trade)\n",
    "\n",
    "    # include a history window for first day\n",
    "    start_date = start_date - BDay(nr_days_of_history)\n",
    "\n",
    "    return {'start_date':start_date,'end_date':end_date}\n",
    "\n",
    "\n",
    "# todo do proper check for file not found\n",
    "def import_stock_data(nr_days_of_history, nr_days_to_trade, start_date_str):\n",
    "    \"\"\"\n",
    "    Imports the relevant data from the text file system as a pandas data frame\n",
    "    \"\"\"\n",
    "    # OBS!!!!!! temporary limitation for the size of the data frame\n",
    "    size_of_subset = 100\n",
    "    \n",
    "    # pick out the desired start and end dates\n",
    "    dates = calculateDates(nr_days_of_history = nr_days_of_history, nr_days_to_trade = nr_days_to_trade, start_date_str = start_date_str)\n",
    "\n",
    "    # list the files to be read\n",
    "    path = \"./data/full_history/*.csv\"\n",
    "    all_files = np.array(glob.glob(path))\n",
    "\n",
    "    # create an empty list to add each (relevant) stock's data frame\n",
    "    li=[]\n",
    "\n",
    "    # go through all the files in the folder\n",
    "    for filename in all_files[:size_of_subset]:\n",
    "        # read in the file\n",
    "        df = pd.read_csv(filename, parse_dates=[0])\n",
    "        \n",
    "        # basic trimming: drop all extra columns,rename the stock value column after the stock\n",
    "        df = df.drop(labels=list(['volume','close','high','low','adjclose']), axis='columns') \n",
    "        stock_name = filename.split(sep='/')[3].split(sep='.')[0].lower()\n",
    "        df = df.rename(columns={'open': stock_name})\n",
    "        \n",
    "        # fit to time window: selct only rows with relevant dates and ignore stocks without relevant values\n",
    "        df = df.loc[(df['date'] > dates['start_date']) & (df['date'] < dates['end_date'])]\n",
    "        if df.empty:\n",
    "            continue\n",
    "        \n",
    "        \n",
    "        # prepare for concatenation: prep to join on dates and add to list of dfs\n",
    "        df=df.set_index('date')\n",
    "        li.append(df)\n",
    "\n",
    "    \n",
    "    # combine into a single data frame\n",
    "    df = pd.concat(li, join='outer', axis=1)\n",
    "\n",
    "    # remove dates (anonymises the time window somewhat)\n",
    "    #df.reset_index(drop=True)\n",
    "\n",
    "    return(df)\n",
    "\n",
    "#window = sys.argv[1]\n",
    "#start_date = sys.argv[2]\n",
    "create_stock_df()"
   ]
  },
  {
   "cell_type": "code",
   "execution_count": 13,
   "metadata": {
    "tags": []
   },
   "outputs": [
    {
     "output_type": "execute_result",
     "data": {
      "text/plain": "       isd    men       dfnl        hud   intg        fun       iusb   evf  \\\n0    15.51  11.32        NaN  54.380001  29.40  63.500000  50.290001  6.71   \n1    15.56  11.36        NaN  53.790001  29.40  63.790001  50.380001  6.63   \n2    15.49  11.36        NaN  54.009998  28.00  64.519997  50.320000  6.65   \n3    15.61  11.46        NaN  55.470001  29.40  64.760002  50.439999  6.70   \n4    15.64  11.48        NaN  58.250000  29.35  63.730000  50.430000  6.72   \n..     ...    ...        ...        ...    ...        ...        ...   ...   \n100  15.55  11.83  20.950001        NaN    NaN  70.760002  51.070000  6.77   \n101  15.62  11.85  20.770000        NaN    NaN  70.650002  51.099998  6.78   \n102  15.63  11.89  20.900000        NaN    NaN  70.559998  50.950001  6.78   \n103  15.61  11.94  21.010000        NaN    NaN  71.000000  51.110001  6.76   \n104  15.50  12.03  21.100000        NaN    NaN  70.800003  51.090000  6.75   \n\n         chsco       bhvn  ...       wynd       otex    eigr       ebtc   ent  \\\n0    28.660000        NaN  ...  34.474041  30.985001  12.000  38.450001  6.49   \n1    29.799999        NaN  ...  34.415348  31.264999  12.000  38.860001  6.58   \n2    29.320000        NaN  ...  34.528217  31.434999  11.900  38.279999  6.43   \n3    29.160000        NaN  ...  34.577877  31.295000  11.950  37.970001  6.24   \n4    29.430000        NaN  ...  34.668171  31.139999  11.525  36.119999  6.20   \n..         ...        ...  ...        ...        ...     ...        ...   ...   \n100  29.200001  24.570000  ...  44.948082  32.540001   6.950  30.190001  3.22   \n101  29.100000  24.290001  ...  45.322800  32.419998   6.850  29.540001  3.15   \n102  29.000000  25.459999  ...  45.905193  32.709999   6.700  30.299999  3.08   \n103  29.059999  25.090000  ...  46.428894  32.810001   7.050  30.410000  3.04   \n104  29.230000  24.559999  ...  46.564335  32.799999   6.950  31.010000  2.90   \n\n       mhn   wneb         pkg  east   arct  \n0    13.45   9.45   85.440002  1.91  16.10  \n1    13.54   9.50   86.370003  1.90  15.89  \n2    13.56   9.40   85.370003  1.80  16.66  \n3    13.54   9.45   86.900002  1.80  15.33  \n4    13.56   9.30   87.699997  1.85  15.75  \n..     ...    ...         ...   ...    ...  \n100  13.80  10.10  102.019997  1.95   8.12  \n101  13.84  10.00  102.669998  2.02   7.84  \n102  13.89  10.00  102.250000  2.15   7.84  \n103  13.85  10.10  103.959999  2.00   8.47  \n104  13.82  10.30  104.199997  1.95   8.12  \n\n[105 rows x 80 columns]",
      "text/html": "<div>\n<style scoped>\n    .dataframe tbody tr th:only-of-type {\n        vertical-align: middle;\n    }\n\n    .dataframe tbody tr th {\n        vertical-align: top;\n    }\n\n    .dataframe thead th {\n        text-align: right;\n    }\n</style>\n<table border=\"1\" class=\"dataframe\">\n  <thead>\n    <tr style=\"text-align: right;\">\n      <th></th>\n      <th>isd</th>\n      <th>men</th>\n      <th>dfnl</th>\n      <th>hud</th>\n      <th>intg</th>\n      <th>fun</th>\n      <th>iusb</th>\n      <th>evf</th>\n      <th>chsco</th>\n      <th>bhvn</th>\n      <th>...</th>\n      <th>wynd</th>\n      <th>otex</th>\n      <th>eigr</th>\n      <th>ebtc</th>\n      <th>ent</th>\n      <th>mhn</th>\n      <th>wneb</th>\n      <th>pkg</th>\n      <th>east</th>\n      <th>arct</th>\n    </tr>\n  </thead>\n  <tbody>\n    <tr>\n      <th>0</th>\n      <td>15.51</td>\n      <td>11.32</td>\n      <td>NaN</td>\n      <td>54.380001</td>\n      <td>29.40</td>\n      <td>63.500000</td>\n      <td>50.290001</td>\n      <td>6.71</td>\n      <td>28.660000</td>\n      <td>NaN</td>\n      <td>...</td>\n      <td>34.474041</td>\n      <td>30.985001</td>\n      <td>12.000</td>\n      <td>38.450001</td>\n      <td>6.49</td>\n      <td>13.45</td>\n      <td>9.45</td>\n      <td>85.440002</td>\n      <td>1.91</td>\n      <td>16.10</td>\n    </tr>\n    <tr>\n      <th>1</th>\n      <td>15.56</td>\n      <td>11.36</td>\n      <td>NaN</td>\n      <td>53.790001</td>\n      <td>29.40</td>\n      <td>63.790001</td>\n      <td>50.380001</td>\n      <td>6.63</td>\n      <td>29.799999</td>\n      <td>NaN</td>\n      <td>...</td>\n      <td>34.415348</td>\n      <td>31.264999</td>\n      <td>12.000</td>\n      <td>38.860001</td>\n      <td>6.58</td>\n      <td>13.54</td>\n      <td>9.50</td>\n      <td>86.370003</td>\n      <td>1.90</td>\n      <td>15.89</td>\n    </tr>\n    <tr>\n      <th>2</th>\n      <td>15.49</td>\n      <td>11.36</td>\n      <td>NaN</td>\n      <td>54.009998</td>\n      <td>28.00</td>\n      <td>64.519997</td>\n      <td>50.320000</td>\n      <td>6.65</td>\n      <td>29.320000</td>\n      <td>NaN</td>\n      <td>...</td>\n      <td>34.528217</td>\n      <td>31.434999</td>\n      <td>11.900</td>\n      <td>38.279999</td>\n      <td>6.43</td>\n      <td>13.56</td>\n      <td>9.40</td>\n      <td>85.370003</td>\n      <td>1.80</td>\n      <td>16.66</td>\n    </tr>\n    <tr>\n      <th>3</th>\n      <td>15.61</td>\n      <td>11.46</td>\n      <td>NaN</td>\n      <td>55.470001</td>\n      <td>29.40</td>\n      <td>64.760002</td>\n      <td>50.439999</td>\n      <td>6.70</td>\n      <td>29.160000</td>\n      <td>NaN</td>\n      <td>...</td>\n      <td>34.577877</td>\n      <td>31.295000</td>\n      <td>11.950</td>\n      <td>37.970001</td>\n      <td>6.24</td>\n      <td>13.54</td>\n      <td>9.45</td>\n      <td>86.900002</td>\n      <td>1.80</td>\n      <td>15.33</td>\n    </tr>\n    <tr>\n      <th>4</th>\n      <td>15.64</td>\n      <td>11.48</td>\n      <td>NaN</td>\n      <td>58.250000</td>\n      <td>29.35</td>\n      <td>63.730000</td>\n      <td>50.430000</td>\n      <td>6.72</td>\n      <td>29.430000</td>\n      <td>NaN</td>\n      <td>...</td>\n      <td>34.668171</td>\n      <td>31.139999</td>\n      <td>11.525</td>\n      <td>36.119999</td>\n      <td>6.20</td>\n      <td>13.56</td>\n      <td>9.30</td>\n      <td>87.699997</td>\n      <td>1.85</td>\n      <td>15.75</td>\n    </tr>\n    <tr>\n      <th>...</th>\n      <td>...</td>\n      <td>...</td>\n      <td>...</td>\n      <td>...</td>\n      <td>...</td>\n      <td>...</td>\n      <td>...</td>\n      <td>...</td>\n      <td>...</td>\n      <td>...</td>\n      <td>...</td>\n      <td>...</td>\n      <td>...</td>\n      <td>...</td>\n      <td>...</td>\n      <td>...</td>\n      <td>...</td>\n      <td>...</td>\n      <td>...</td>\n      <td>...</td>\n      <td>...</td>\n    </tr>\n    <tr>\n      <th>100</th>\n      <td>15.55</td>\n      <td>11.83</td>\n      <td>20.950001</td>\n      <td>NaN</td>\n      <td>NaN</td>\n      <td>70.760002</td>\n      <td>51.070000</td>\n      <td>6.77</td>\n      <td>29.200001</td>\n      <td>24.570000</td>\n      <td>...</td>\n      <td>44.948082</td>\n      <td>32.540001</td>\n      <td>6.950</td>\n      <td>30.190001</td>\n      <td>3.22</td>\n      <td>13.80</td>\n      <td>10.10</td>\n      <td>102.019997</td>\n      <td>1.95</td>\n      <td>8.12</td>\n    </tr>\n    <tr>\n      <th>101</th>\n      <td>15.62</td>\n      <td>11.85</td>\n      <td>20.770000</td>\n      <td>NaN</td>\n      <td>NaN</td>\n      <td>70.650002</td>\n      <td>51.099998</td>\n      <td>6.78</td>\n      <td>29.100000</td>\n      <td>24.290001</td>\n      <td>...</td>\n      <td>45.322800</td>\n      <td>32.419998</td>\n      <td>6.850</td>\n      <td>29.540001</td>\n      <td>3.15</td>\n      <td>13.84</td>\n      <td>10.00</td>\n      <td>102.669998</td>\n      <td>2.02</td>\n      <td>7.84</td>\n    </tr>\n    <tr>\n      <th>102</th>\n      <td>15.63</td>\n      <td>11.89</td>\n      <td>20.900000</td>\n      <td>NaN</td>\n      <td>NaN</td>\n      <td>70.559998</td>\n      <td>50.950001</td>\n      <td>6.78</td>\n      <td>29.000000</td>\n      <td>25.459999</td>\n      <td>...</td>\n      <td>45.905193</td>\n      <td>32.709999</td>\n      <td>6.700</td>\n      <td>30.299999</td>\n      <td>3.08</td>\n      <td>13.89</td>\n      <td>10.00</td>\n      <td>102.250000</td>\n      <td>2.15</td>\n      <td>7.84</td>\n    </tr>\n    <tr>\n      <th>103</th>\n      <td>15.61</td>\n      <td>11.94</td>\n      <td>21.010000</td>\n      <td>NaN</td>\n      <td>NaN</td>\n      <td>71.000000</td>\n      <td>51.110001</td>\n      <td>6.76</td>\n      <td>29.059999</td>\n      <td>25.090000</td>\n      <td>...</td>\n      <td>46.428894</td>\n      <td>32.810001</td>\n      <td>7.050</td>\n      <td>30.410000</td>\n      <td>3.04</td>\n      <td>13.85</td>\n      <td>10.10</td>\n      <td>103.959999</td>\n      <td>2.00</td>\n      <td>8.47</td>\n    </tr>\n    <tr>\n      <th>104</th>\n      <td>15.50</td>\n      <td>12.03</td>\n      <td>21.100000</td>\n      <td>NaN</td>\n      <td>NaN</td>\n      <td>70.800003</td>\n      <td>51.090000</td>\n      <td>6.75</td>\n      <td>29.230000</td>\n      <td>24.559999</td>\n      <td>...</td>\n      <td>46.564335</td>\n      <td>32.799999</td>\n      <td>6.950</td>\n      <td>31.010000</td>\n      <td>2.90</td>\n      <td>13.82</td>\n      <td>10.30</td>\n      <td>104.199997</td>\n      <td>1.95</td>\n      <td>8.12</td>\n    </tr>\n  </tbody>\n</table>\n<p>105 rows × 80 columns</p>\n</div>"
     },
     "metadata": {},
     "execution_count": 13
    }
   ],
   "source": [
    "\n"
   ]
  },
  {
   "cell_type": "code",
   "execution_count": 2,
   "metadata": {
    "scrolled": true
   },
   "outputs": [
    {
     "output_type": "error",
     "ename": "NameError",
     "evalue": "name 'df' is not defined",
     "traceback": [
      "\u001b[0;31m---------------------------------------------------------------------------\u001b[0m",
      "\u001b[0;31mNameError\u001b[0m                                 Traceback (most recent call last)",
      "\u001b[0;32m<ipython-input-2-00cf07b74dcd>\u001b[0m in \u001b[0;36m<module>\u001b[0;34m\u001b[0m\n\u001b[0;32m----> 1\u001b[0;31m \u001b[0mdf\u001b[0m\u001b[0;34m\u001b[0m\u001b[0;34m\u001b[0m\u001b[0m\n\u001b[0m",
      "\u001b[0;31mNameError\u001b[0m: name 'df' is not defined"
     ]
    }
   ],
   "source": [
    "df"
   ]
  },
  {
   "cell_type": "code",
   "execution_count": null,
   "metadata": {},
   "outputs": [],
   "source": []
  }
 ],
 "metadata": {
  "kernelspec": {
   "display_name": "Python 3",
   "language": "python",
   "name": "python3"
  },
  "language_info": {
   "codemirror_mode": {
    "name": "ipython",
    "version": 3
   },
   "file_extension": ".py",
   "mimetype": "text/x-python",
   "name": "python",
   "nbconvert_exporter": "python",
   "pygments_lexer": "ipython3",
   "version": "3.6.9-final"
  }
 },
 "nbformat": 4,
 "nbformat_minor": 4
}